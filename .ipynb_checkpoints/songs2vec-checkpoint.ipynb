{
 "cells": [
  {
   "cell_type": "code",
   "execution_count": 1,
   "metadata": {},
   "outputs": [],
   "source": [
    "import pandas as pd"
   ]
  },
  {
   "cell_type": "code",
   "execution_count": 2,
   "metadata": {},
   "outputs": [],
   "source": [
    "df = pd.read_csv(\"./billboard.csv\")"
   ]
  },
  {
   "cell_type": "code",
   "execution_count": 3,
   "metadata": {},
   "outputs": [],
   "source": [
    "df = df.drop('Unnamed: 0',axis=1)"
   ]
  },
  {
   "cell_type": "code",
   "execution_count": 4,
   "metadata": {},
   "outputs": [],
   "source": [
    "from gensim.models import doc2vec"
   ]
  },
  {
   "cell_type": "code",
   "execution_count": 5,
   "metadata": {},
   "outputs": [],
   "source": [
    "df['labels'] = df['year'].apply(lambda x:str(x)) +'-'+ df['song'] + '-'+ df['artist']"
   ]
  },
  {
   "cell_type": "code",
   "execution_count": 6,
   "metadata": {},
   "outputs": [],
   "source": [
    "def label_sentence(sentence, label):\n",
    "    return doc2vec.LabeledSentence(words=sentence, tags=[label])"
   ]
  },
  {
   "cell_type": "code",
   "execution_count": 7,
   "metadata": {},
   "outputs": [
    {
     "name": "stderr",
     "output_type": "stream",
     "text": [
      "/anaconda3/lib/python3.6/site-packages/ipykernel_launcher.py:2: DeprecationWarning: Call to deprecated `LabeledSentence` (Class will be removed in 4.0.0, use TaggedDocument instead).\n",
      "  \n"
     ]
    }
   ],
   "source": [
    "docs = []\n",
    "for i in range(len(df)):\n",
    "    row = df.iloc[i]\n",
    "    label = row['labels']\n",
    "    lyrics = row['lyrics']\n",
    "    docs.append(label_sentence(lyrics,label))"
   ]
  },
  {
   "cell_type": "code",
   "execution_count": 8,
   "metadata": {},
   "outputs": [],
   "source": [
    "rick_roll = \"We’re no strangers to love, You know the rules and so do I. A full commitment’s what I’m thinking of, You wouldnt get this from any other guy. I just wanna tell you how I’m feeling, Gotta make you understand… Never gonna give you up, Never gonna let you down, Never gonna run around and desert you. Never gonna make you cry, Never gonna say goodbye, Never gonna tell a lie and hurt you. We’ve known each other for so long Your heart’s been aching But you’re too shy to say it. Inside we both know what’s been going on, We know the game and we’re gonna play it. Annnnnd if you ask me how I’m feeling, Don’t tell me you’re too blind to see… Never gonna give you up, Never gonna let you down, Never gonna run around and desert you. Never gonna make you cry, Never gonna say goodbye, Never gonna tell a lie and hurt you. Never gonna give you up, Never gonna let you down, Never gonna run around and desert you. Never gonna make you cry, Never gonna say goodbye, Never gonna tell a lie and hurt you. Give you up. give you up. Give you up, give you up. Never gonna give Never gonna give, give you up. Never gonna give Never gonna give, give you up. We’ve known each other for so long Your heart’s been aching But you’re too shy to say it. Inside we both know what’s been going on, We know the game and we’re gonna play it. I just wanna tell you how I’m feeling, Gotta make you understand… Never gonna give you up, Never gonna let you down, Never gonna run around and desert you. Never gonna make you cry, Never gonna say goodbye, Never gonna tell a lie and hurt you. Never gonna give you up, Never gonna let you down, Never gonna run around and desert you. Never gonna make you cry, Never gonna say goodbye, Never gonna tell a lie and hurt you. Never gonna give you up, Never gonna let you down, Never gonna run around and desert you. Never gonna make you cry, Never gonna say goodbye, Never gonna tell a lie and hurt you.\"\n"
   ]
  },
  {
   "cell_type": "code",
   "execution_count": 17,
   "metadata": {},
   "outputs": [],
   "source": [
    "import re\n",
    "rick_roll = re.sub(r\"\\.|!,’\", \" \", rick_roll)"
   ]
  },
  {
   "cell_type": "code",
   "execution_count": 18,
   "metadata": {},
   "outputs": [
    {
     "data": {
      "text/plain": [
       "'We’re no strangers to love, You know the rules and so do I A full commitment’s what I’m thinking of, You wouldnt get this from any other guy I just wanna tell you how I’m feeling, Gotta make you understand… Never gonna give you up, Never gonna let you down, Never gonna run around and desert you Never gonna make you cry, Never gonna say goodbye, Never gonna tell a lie and hurt you We’ve known each other for so long Your heart’s been aching But you’re too shy to say it Inside we both know what’s been going on, We know the game and we’re gonna play it Annnnnd if you ask me how I’m feeling, Don’t tell me you’re too blind to see… Never gonna give you up, Never gonna let you down, Never gonna run around and desert you Never gonna make you cry, Never gonna say goodbye, Never gonna tell a lie and hurt you Never gonna give you up, Never gonna let you down, Never gonna run around and desert you Never gonna make you cry, Never gonna say goodbye, Never gonna tell a lie and hurt you Give you up give you up Give you up, give you up Never gonna give Never gonna give, give you up Never gonna give Never gonna give, give you up We’ve known each other for so long Your heart’s been aching But you’re too shy to say it Inside we both know what’s been going on, We know the game and we’re gonna play it I just wanna tell you how I’m feeling, Gotta make you understand… Never gonna give you up, Never gonna let you down, Never gonna run around and desert you Never gonna make you cry, Never gonna say goodbye, Never gonna tell a lie and hurt you Never gonna give you up, Never gonna let you down, Never gonna run around and desert you Never gonna make you cry, Never gonna say goodbye, Never gonna tell a lie and hurt you Never gonna give you up, Never gonna let you down, Never gonna run around and desert you Never gonna make you cry, Never gonna say goodbye, Never gonna tell a lie and hurt you'"
      ]
     },
     "execution_count": 18,
     "metadata": {},
     "output_type": "execute_result"
    }
   ],
   "source": [
    "rick_roll"
   ]
  },
  {
   "cell_type": "code",
   "execution_count": 39,
   "metadata": {},
   "outputs": [
    {
     "name": "stderr",
     "output_type": "stream",
     "text": [
      "/anaconda3/lib/python3.6/site-packages/gensim/models/doc2vec.py:366: UserWarning: The parameter `size` is deprecated, will be removed in 4.0.0, use `vector_size` instead.\n",
      "  warnings.warn(\"The parameter `size` is deprecated, will be removed in 4.0.0, use `vector_size` instead.\")\n"
     ]
    }
   ],
   "source": [
    "model = doc2vec.Doc2Vec(docs, size=100, window=8, min_count=5, workers=4)"
   ]
  },
  {
   "cell_type": "code",
   "execution_count": 42,
   "metadata": {},
   "outputs": [],
   "source": [
    "model.save(\"billboard_model.doc2vec\")"
   ]
  },
  {
   "cell_type": "code",
   "execution_count": 45,
   "metadata": {},
   "outputs": [
    {
     "data": {
      "text/plain": [
       "song                                                tik tok\n",
       "year                                                   2010\n",
       "artist                                                 keha\n",
       "lyrics     wake up in the morning feeling like p diddy h...\n",
       "labels                                    2010-tik tok-keha\n",
       "Name: 0, dtype: object"
      ]
     },
     "execution_count": 45,
     "metadata": {},
     "output_type": "execute_result"
    }
   ],
   "source": [
    "df.iloc[0]"
   ]
  },
  {
   "cell_type": "code",
   "execution_count": 47,
   "metadata": {},
   "outputs": [
    {
     "data": {
      "text/plain": [
       "[('2012-drank in my cup-kirko bangz', 0.9002141952514648),\n",
       " ('2012-starships-nicki minaj', 0.875458836555481),\n",
       " ('2010-party in the usa-miley cyrus', 0.8591505289077759),\n",
       " ('2014-hot boy-bobby shmurda', 0.8472310900688171),\n",
       " ('2012-dance a-big sean featuring nicki minaj', 0.80816251039505)]"
      ]
     },
     "execution_count": 47,
     "metadata": {},
     "output_type": "execute_result"
    }
   ],
   "source": [
    "model.docvecs.most_similar([\"2010-tik tok-keha\"], topn=5)"
   ]
  },
  {
   "cell_type": "code",
   "execution_count": null,
   "metadata": {},
   "outputs": [],
   "source": []
  }
 ],
 "metadata": {
  "kernelspec": {
   "display_name": "Python 3",
   "language": "python",
   "name": "python3"
  },
  "language_info": {
   "codemirror_mode": {
    "name": "ipython",
    "version": 3
   },
   "file_extension": ".py",
   "mimetype": "text/x-python",
   "name": "python",
   "nbconvert_exporter": "python",
   "pygments_lexer": "ipython3",
   "version": "3.6.4"
  }
 },
 "nbformat": 4,
 "nbformat_minor": 2
}
