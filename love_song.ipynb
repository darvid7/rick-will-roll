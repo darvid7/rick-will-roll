{
 "cells": [
  {
   "cell_type": "code",
   "execution_count": 1,
   "metadata": {},
   "outputs": [],
   "source": [
    "import pandas as pd"
   ]
  },
  {
   "cell_type": "markdown",
   "metadata": {},
   "source": [
    "Alternate Hypothesis: The popularity of songs about love on Billboard increases as year increases\n",
    "Null Hypothesis: Year does not contribute to the popularity of love songs on Billboard"
   ]
  },
  {
   "cell_type": "code",
   "execution_count": 16,
   "metadata": {},
   "outputs": [],
   "source": [
    "bb = pd.read_csv(\"billboard_lyrics_1964-2015 2.csv\",encoding='latin-1')\n",
    "bb = bb.drop(\"Source\",axis=1)"
   ]
  },
  {
   "cell_type": "code",
   "execution_count": 17,
   "metadata": {},
   "outputs": [],
   "source": [
    "y1965 = bb[(bb[\"Year\"] >= 1965) & (bb[\"Year\"]< 1975)]"
   ]
  },
  {
   "cell_type": "code",
   "execution_count": 24,
   "metadata": {},
   "outputs": [],
   "source": [
    "y1975 = bb[(bb[\"Year\"] >= 1975) & (bb[\"Year\"]< 1984)].reset_index(inplace=True)\n",
    "y1985 = bb[(bb[\"Year\"] >= 1985) & (bb[\"Year\"]< 1994)].reset_index(inplace=True)\n",
    "y1995 = bb[(bb[\"Year\"] >= 1995) & (bb[\"Year\"]< 2004)].reset_index(inplace=True)\n",
    "y2005 = bb[(bb[\"Year\"] >= 2005) & (bb[\"Year\"]< 2014)].reset_index(inplace=True)"
   ]
  },
  {
   "cell_type": "code",
   "execution_count": 25,
   "metadata": {},
   "outputs": [],
   "source": [
    "y1975.to_csv(\"1975.csv\")\n",
    "y1975.to_csv(\"1985.csv\")\n",
    "y1975.to_csv(\"1995.csv\")\n",
    "y1975.to_csv(\"2005.csv\")\n",
    "y1975.to_csv(\"2015.csv\")"
   ]
  },
  {
   "cell_type": "code",
   "execution_count": null,
   "metadata": {},
   "outputs": [],
   "source": []
  }
 ],
 "metadata": {
  "kernelspec": {
   "display_name": "Python 3",
   "language": "python",
   "name": "python3"
  },
  "language_info": {
   "codemirror_mode": {
    "name": "ipython",
    "version": 3
   },
   "file_extension": ".py",
   "mimetype": "text/x-python",
   "name": "python",
   "nbconvert_exporter": "python",
   "pygments_lexer": "ipython3",
   "version": "3.6.4"
  }
 },
 "nbformat": 4,
 "nbformat_minor": 2
}
