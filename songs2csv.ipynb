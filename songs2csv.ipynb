{
 "cells": [
  {
   "cell_type": "code",
   "execution_count": 3,
   "metadata": {},
   "outputs": [],
   "source": [
    "import pandas as pd"
   ]
  },
  {
   "cell_type": "code",
   "execution_count": 9,
   "metadata": {},
   "outputs": [],
   "source": [
    "s10 = pd.read_excel(\"./song_names.xlsx\",sheet_name=\"2010\")\n",
    "s11 = pd.read_excel(\"./song_names.xlsx\",sheet_name=\"2011\")\n",
    "s12 = pd.read_excel(\"./song_names.xlsx\",sheet_name=\"2012\")\n",
    "s13 = pd.read_excel(\"./song_names.xlsx\",sheet_name=\"2013\")\n",
    "s14 = pd.read_excel(\"./song_names.xlsx\",sheet_name=\"2014\")\n",
    "s15 = pd.read_excel(\"./song_names.xlsx\",sheet_name=\"2015\")\n",
    "s16 = pd.read_excel(\"./song_names.xlsx\",sheet_name=\"2016\")\n",
    "s17 = pd.read_excel(\"./song_names.xlsx\",sheet_name=\"2017\")\n",
    "s18 = pd.read_excel(\"./song_names.xlsx\",sheet_name=\"2018\")"
   ]
  },
  {
   "cell_type": "code",
   "execution_count": 10,
   "metadata": {},
   "outputs": [],
   "source": [
    "s10.to_csv(\"2010.csv\")\n",
    "s11.to_csv(\"2011.csv\")\n",
    "s12.to_csv(\"2012.csv\")\n",
    "s13.to_csv(\"2013.csv\")\n",
    "s14.to_csv(\"2014.csv\")\n",
    "s15.to_csv(\"2015.csv\")\n",
    "s16.to_csv(\"2016.csv\")\n",
    "s17.to_csv(\"2017.csv\")\n",
    "s18.to_csv(\"2018.csv\")"
   ]
  },
  {
   "cell_type": "code",
   "execution_count": null,
   "metadata": {},
   "outputs": [],
   "source": []
  }
 ],
 "metadata": {
  "kernelspec": {
   "display_name": "Python 3",
   "language": "python",
   "name": "python3"
  },
  "language_info": {
   "codemirror_mode": {
    "name": "ipython",
    "version": 3
   },
   "file_extension": ".py",
   "mimetype": "text/x-python",
   "name": "python",
   "nbconvert_exporter": "python",
   "pygments_lexer": "ipython3",
   "version": "3.6.4"
  }
 },
 "nbformat": 4,
 "nbformat_minor": 2
}
