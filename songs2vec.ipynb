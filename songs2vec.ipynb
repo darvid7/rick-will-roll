{
 "cells": [
  {
   "cell_type": "code",
   "execution_count": 1,
   "metadata": {},
   "outputs": [],
   "source": [
    "import pandas as pd"
   ]
  },
  {
   "cell_type": "code",
   "execution_count": 2,
   "metadata": {},
   "outputs": [],
   "source": [
    "df = pd.read_csv(\"./billboard.csv\")"
   ]
  },
  {
   "cell_type": "code",
   "execution_count": 3,
   "metadata": {},
   "outputs": [],
   "source": [
    "df = df.drop('Unnamed: 0',axis=1)"
   ]
  },
  {
   "cell_type": "code",
   "execution_count": 4,
   "metadata": {},
   "outputs": [],
   "source": [
    "df = df.drop_duplicates('song')"
   ]
  },
  {
   "cell_type": "code",
   "execution_count": 6,
   "metadata": {},
   "outputs": [],
   "source": [
    "df = df.reset_index(drop=True)"
   ]
  },
  {
   "cell_type": "code",
   "execution_count": 7,
   "metadata": {},
   "outputs": [],
   "source": [
    "from gensim.models import doc2vec"
   ]
  },
  {
   "cell_type": "code",
   "execution_count": 8,
   "metadata": {},
   "outputs": [],
   "source": [
    "df['labels'] = df['year'].apply(lambda x:str(x)) +'-'+ df['song'] + '-'+ df['artist']"
   ]
  },
  {
   "cell_type": "code",
   "execution_count": 9,
   "metadata": {},
   "outputs": [],
   "source": [
    "def label_sentence(sentence, label):\n",
    "    return doc2vec.LabeledSentence(words=sentence, tags=[label])"
   ]
  },
  {
   "cell_type": "code",
   "execution_count": 10,
   "metadata": {},
   "outputs": [
    {
     "name": "stderr",
     "output_type": "stream",
     "text": [
      "/anaconda3/lib/python3.6/site-packages/ipykernel_launcher.py:2: DeprecationWarning: Call to deprecated `LabeledSentence` (Class will be removed in 4.0.0, use TaggedDocument instead).\n",
      "  \n"
     ]
    }
   ],
   "source": [
    "docs = []\n",
    "for i in range(len(df)):\n",
    "    row = df.iloc[i]\n",
    "    label = row['labels']\n",
    "    lyrics = row['lyrics']\n",
    "    docs.append(label_sentence(lyrics,label))"
   ]
  },
  {
   "cell_type": "code",
   "execution_count": 11,
   "metadata": {},
   "outputs": [],
   "source": [
    "rick_roll = \"We’re no strangers to love, You know the rules and so do I. A full commitment’s what I’m thinking of, You wouldnt get this from any other guy. I just wanna tell you how I’m feeling, Gotta make you understand… Never gonna give you up, Never gonna let you down, Never gonna run around and desert you. Never gonna make you cry, Never gonna say goodbye, Never gonna tell a lie and hurt you. We’ve known each other for so long Your heart’s been aching But you’re too shy to say it. Inside we both know what’s been going on, We know the game and we’re gonna play it. Annnnnd if you ask me how I’m feeling, Don’t tell me you’re too blind to see… Never gonna give you up, Never gonna let you down, Never gonna run around and desert you. Never gonna make you cry, Never gonna say goodbye, Never gonna tell a lie and hurt you. Never gonna give you up, Never gonna let you down, Never gonna run around and desert you. Never gonna make you cry, Never gonna say goodbye, Never gonna tell a lie and hurt you. Give you up. give you up. Give you up, give you up. Never gonna give Never gonna give, give you up. Never gonna give Never gonna give, give you up. We’ve known each other for so long Your heart’s been aching But you’re too shy to say it. Inside we both know what’s been going on, We know the game and we’re gonna play it. I just wanna tell you how I’m feeling, Gotta make you understand… Never gonna give you up, Never gonna let you down, Never gonna run around and desert you. Never gonna make you cry, Never gonna say goodbye, Never gonna tell a lie and hurt you. Never gonna give you up, Never gonna let you down, Never gonna run around and desert you. Never gonna make you cry, Never gonna say goodbye, Never gonna tell a lie and hurt you. Never gonna give you up, Never gonna let you down, Never gonna run around and desert you. Never gonna make you cry, Never gonna say goodbye, Never gonna tell a lie and hurt you.\"\n"
   ]
  },
  {
   "cell_type": "code",
   "execution_count": 12,
   "metadata": {},
   "outputs": [
    {
     "name": "stderr",
     "output_type": "stream",
     "text": [
      "/anaconda3/lib/python3.6/site-packages/ipykernel_launcher.py:2: DeprecationWarning: Call to deprecated `LabeledSentence` (Class will be removed in 4.0.0, use TaggedDocument instead).\n",
      "  \n"
     ]
    }
   ],
   "source": [
    "import re\n",
    "from string import punctuation\n",
    "rick_roll = \"\".join(c for c in rick_roll if c not in punctuation)\n",
    "rick_roll = rick_roll.replace('’',\" \").replace(\"…\",\"\")\n",
    "docs.append(label_sentence(rick_roll,\"rick\"))"
   ]
  },
  {
   "cell_type": "code",
   "execution_count": null,
   "metadata": {},
   "outputs": [],
   "source": []
  },
  {
   "cell_type": "code",
   "execution_count": 21,
   "metadata": {},
   "outputs": [
    {
     "name": "stderr",
     "output_type": "stream",
     "text": [
      "/anaconda3/lib/python3.6/site-packages/gensim/models/doc2vec.py:366: UserWarning: The parameter `size` is deprecated, will be removed in 4.0.0, use `vector_size` instead.\n",
      "  warnings.warn(\"The parameter `size` is deprecated, will be removed in 4.0.0, use `vector_size` instead.\")\n"
     ]
    }
   ],
   "source": [
    "model = doc2vec.Doc2Vec(docs, size=300, window=8, min_count=5, workers=4)"
   ]
  },
  {
   "cell_type": "code",
   "execution_count": 22,
   "metadata": {},
   "outputs": [],
   "source": [
    "model.save(\"billboard_model.doc2vec\")"
   ]
  },
  {
   "cell_type": "code",
   "execution_count": 23,
   "metadata": {},
   "outputs": [
    {
     "data": {
      "text/plain": [
       "song                                                tik tok\n",
       "year                                                   2010\n",
       "artist                                                 keha\n",
       "lyrics     wake up in the morning feeling like p diddy h...\n",
       "labels                                    2010-tik tok-keha\n",
       "Name: 0, dtype: object"
      ]
     },
     "execution_count": 23,
     "metadata": {},
     "output_type": "execute_result"
    }
   ],
   "source": [
    "df.iloc[0]"
   ]
  },
  {
   "cell_type": "code",
   "execution_count": 24,
   "metadata": {},
   "outputs": [
    {
     "data": {
      "text/plain": [
       "[('2010-your love is my drug-keha', 0.9184346199035645),\n",
       " ('2010-lover lover-jerrod niemann', 0.8830103874206543),\n",
       " ('2012-hard to love-lee brice', 0.8765865564346313),\n",
       " ('2012-as long as you love me-justin bieber featuring big sean',\n",
       "  0.8549652099609375),\n",
       " ('2014-all of me-john legend', 0.8380066752433777),\n",
       " ('2012-drive by-train', 0.8363342881202698),\n",
       " ('2015-love me harder-ariana grande and the weeknd', 0.8277329802513123),\n",
       " ('2012-a thousand years-christina perri', 0.8258942365646362),\n",
       " ('2014-birthday-katy perry', 0.8124738931655884),\n",
       " ('2010-young forever-jayz featuring mr hudson', 0.8100830912590027)]"
      ]
     },
     "execution_count": 24,
     "metadata": {},
     "output_type": "execute_result"
    }
   ],
   "source": [
    "model.docvecs.most_similar([\"rick\"], topn=10)"
   ]
  },
  {
   "cell_type": "code",
   "execution_count": null,
   "metadata": {},
   "outputs": [],
   "source": [
    "for epoch in range(10):\n",
    "    \n",
    "    "
   ]
  }
 ],
 "metadata": {
  "kernelspec": {
   "display_name": "Python 3",
   "language": "python",
   "name": "python3"
  },
  "language_info": {
   "codemirror_mode": {
    "name": "ipython",
    "version": 3
   },
   "file_extension": ".py",
   "mimetype": "text/x-python",
   "name": "python",
   "nbconvert_exporter": "python",
   "pygments_lexer": "ipython3",
   "version": "3.6.4"
  }
 },
 "nbformat": 4,
 "nbformat_minor": 2
}
