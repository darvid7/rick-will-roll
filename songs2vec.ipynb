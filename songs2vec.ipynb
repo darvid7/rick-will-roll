{
 "cells": [
  {
   "cell_type": "code",
   "execution_count": 2,
   "metadata": {},
   "outputs": [],
   "source": [
    "import pandas as pd"
   ]
  },
  {
   "cell_type": "code",
   "execution_count": 3,
   "metadata": {},
   "outputs": [],
   "source": [
    "df = pd.read_csv(\"./billboard.csv\")"
   ]
  },
  {
   "cell_type": "code",
   "execution_count": 4,
   "metadata": {},
   "outputs": [],
   "source": [
    "df = df.drop('Unnamed: 0',axis=1)"
   ]
  },
  {
   "cell_type": "code",
   "execution_count": 5,
   "metadata": {},
   "outputs": [],
   "source": [
    "df = df.drop_duplicates('song')"
   ]
  },
  {
   "cell_type": "code",
   "execution_count": 6,
   "metadata": {},
   "outputs": [],
   "source": [
    "df = df.reset_index(drop=True)"
   ]
  },
  {
   "cell_type": "code",
   "execution_count": 7,
   "metadata": {},
   "outputs": [],
   "source": [
    "from gensim.models import doc2vec"
   ]
  },
  {
   "cell_type": "code",
   "execution_count": 8,
   "metadata": {},
   "outputs": [],
   "source": [
    "df['labels'] = df['year'].apply(lambda x:str(x)) +'-'+ df['song'] + '-'+ df['artist']"
   ]
  },
  {
   "cell_type": "code",
   "execution_count": 9,
   "metadata": {},
   "outputs": [],
   "source": [
    "def label_sentence(sentence, label):\n",
    "    return doc2vec.LabeledSentence(words=sentence, tags=[label])"
   ]
  },
  {
   "cell_type": "code",
   "execution_count": 10,
   "metadata": {},
   "outputs": [
    {
     "name": "stderr",
     "output_type": "stream",
     "text": [
      "/anaconda3/lib/python3.6/site-packages/ipykernel_launcher.py:2: DeprecationWarning: Call to deprecated `LabeledSentence` (Class will be removed in 4.0.0, use TaggedDocument instead).\n",
      "  \n"
     ]
    }
   ],
   "source": [
    "docs = []\n",
    "for i in range(len(df)):\n",
    "    row = df.iloc[i]\n",
    "    label = row['labels']\n",
    "    lyrics = row['lyrics']\n",
    "    docs.append(label_sentence(lyrics,label))"
   ]
  },
  {
   "cell_type": "code",
   "execution_count": 36,
   "metadata": {},
   "outputs": [],
   "source": [
    "rick_roll = \"You turn me off at the push of a button And you pretend that I don't mean nothing I'm not a saint, that's easy to tell But guess what honey? you ain't no angel You like to scream use words as a weapon Well go ahead take your best shot woman I wanna leave you, it's easy to see But guess what honey it's not that easy We get so complicated (complicated) This finger's for our memories So rip my pictures from your wall Tear them down, and burn them all Light the fire and walk away There's nothing left to say, so Take the ashes from the floor Bury them to just make sure That nothing more is left of me Just bittersweet memories I wanna run and escape from your prison, But when I leave I feel something is missing. I'm not afraid that's easy to tell, This can't be heaven, It feels like I'm in hell. You're like a drug that I can't stop taking, I want more and I can't stop craving. I still want you it's easy to see, But guess what honey? You're not that good for me. We get so complicated (complicated), This finger's for our memories. So rip my pictures from your wall, Tear them down, and burn them all. Light the fire and walk away, There's nothing left to say, so, Take the ashes from the floor, Bury them to just make sure, That nothing more is left of me, Just bittersweet memories. Just bittersweet memories. We get so complicated (complicated), This finger's for our memories. We get so complicated. So rip my pictures from your wall, Tear them down, and burn them all. Light the fire and walk away, There's nothing left to say, so, Take the ashes from the floor, Bury them to just make sure, That nothing more is left of me, Just bittersweet memories. There's nothing left to say. There's nothing left to say.\"\n"
   ]
  },
  {
   "cell_type": "code",
   "execution_count": 37,
   "metadata": {},
   "outputs": [
    {
     "name": "stderr",
     "output_type": "stream",
     "text": [
      "/anaconda3/lib/python3.6/site-packages/ipykernel_launcher.py:2: DeprecationWarning: Call to deprecated `LabeledSentence` (Class will be removed in 4.0.0, use TaggedDocument instead).\n",
      "  \n"
     ]
    }
   ],
   "source": [
    "import re\n",
    "from string import punctuation\n",
    "rick_roll = \"\".join(c for c in rick_roll if c not in punctuation)\n",
    "rick_roll = rick_roll.replace('’',\" \").replace(\"…\",\"\")\n",
    "docs.append(label_sentence(rick_roll,\"rick\"))"
   ]
  },
  {
   "cell_type": "code",
   "execution_count": 38,
   "metadata": {},
   "outputs": [
    {
     "data": {
      "text/plain": [
       "'you turn me off at the push of a button and you pretend that i dont mean nothing im not a saint thats easy to tell but guess what honey you aint no angel you like to scream use words as a weapon well go ahead take your best shot woman i wanna leave you its easy to see but guess what honey its not that easy we get so complicated complicated this fingers for our memories so rip my pictures from your wall tear them down and burn them all light the fire and walk away theres nothing left to say so take the ashes from the floor bury them to just make sure that nothing more is left of me just bittersweet memories i wanna run and escape from your prison but when i leave i feel something is missing im not afraid thats easy to tell this cant be heaven it feels like im in hell youre like a drug that i cant stop taking i want more and i cant stop craving i still want you its easy to see but guess what honey youre not that good for me we get so complicated complicated this fingers for our memories so rip my pictures from your wall tear them down and burn them all light the fire and walk away theres nothing left to say so take the ashes from the floor bury them to just make sure that nothing more is left of me just bittersweet memories just bittersweet memories we get so complicated complicated this fingers for our memories we get so complicated so rip my pictures from your wall tear them down and burn them all light the fire and walk away theres nothing left to say so take the ashes from the floor bury them to just make sure that nothing more is left of me just bittersweet memories theres nothing left to say theres nothing left to say'"
      ]
     },
     "execution_count": 38,
     "metadata": {},
     "output_type": "execute_result"
    }
   ],
   "source": [
    "rick_roll.lower()"
   ]
  },
  {
   "cell_type": "code",
   "execution_count": 19,
   "metadata": {},
   "outputs": [
    {
     "name": "stderr",
     "output_type": "stream",
     "text": [
      "/anaconda3/lib/python3.6/site-packages/gensim/models/doc2vec.py:366: UserWarning: The parameter `size` is deprecated, will be removed in 4.0.0, use `vector_size` instead.\n",
      "  warnings.warn(\"The parameter `size` is deprecated, will be removed in 4.0.0, use `vector_size` instead.\")\n"
     ]
    }
   ],
   "source": [
    "model = doc2vec.Doc2Vec(docs, size=300, window=8, min_count=5, workers=4)"
   ]
  },
  {
   "cell_type": "code",
   "execution_count": 20,
   "metadata": {},
   "outputs": [],
   "source": [
    "model.save(\"billboard_model.doc2vec\")"
   ]
  },
  {
   "cell_type": "code",
   "execution_count": 21,
   "metadata": {},
   "outputs": [
    {
     "data": {
      "text/plain": [
       "song                                                tik tok\n",
       "year                                                   2010\n",
       "artist                                                 keha\n",
       "lyrics     wake up in the morning feeling like p diddy h...\n",
       "labels                                    2010-tik tok-keha\n",
       "Name: 0, dtype: object"
      ]
     },
     "execution_count": 21,
     "metadata": {},
     "output_type": "execute_result"
    }
   ],
   "source": [
    "df.iloc[0]"
   ]
  },
  {
   "cell_type": "code",
   "execution_count": 22,
   "metadata": {},
   "outputs": [
    {
     "data": {
      "text/plain": [
       "[('2010-lover lover-jerrod niemann', 0.903093695640564),\n",
       " ('2010-your love is my drug-keha', 0.8381049633026123),\n",
       " ('2010-find your love-drake', 0.8150156140327454),\n",
       " ('2010-young forever-jayz featuring mr hudson', 0.786287784576416),\n",
       " ('2012-hard to love-lee brice', 0.7845970988273621),\n",
       " ('2015-love me harder-ariana grande and the weeknd', 0.7834727168083191),\n",
       " ('2012-a thousand years-christina perri', 0.7832767963409424),\n",
       " ('2014-all of me-john legend', 0.7831082344055176),\n",
       " ('2013-i need your love-calvin harris featuring ellie goulding',\n",
       "  0.7816218137741089),\n",
       " ('2015-love me like you do-ellie goulding', 0.7769661545753479),\n",
       " ('2010-your love-nicki minaj', 0.7623504400253296),\n",
       " ('2011-motivation-kelly rowland featuring lil wayne', 0.7622659206390381),\n",
       " ('2015-hello-adele', 0.7574220299720764),\n",
       " ('2012-as long as you love me-justin bieber featuring big sean',\n",
       "  0.7504854202270508),\n",
       " ('2010-there goes my baby-usher', 0.7504475116729736),\n",
       " ('2014-love never felt so good-michael jackson and justin timberlake',\n",
       "  0.7480189800262451),\n",
       " ('2015-earned it-the weeknd', 0.7471640706062317),\n",
       " ('2015-like im gonna lose you-meghan trainor featuring john legend',\n",
       "  0.7373785972595215),\n",
       " ('2015-drag me down-one direction', 0.7300689816474915),\n",
       " ('2012-boyfriend-justin bieber', 0.7238425612449646),\n",
       " ('2014-black widow-iggy azalea featuring rita ora', 0.7235385179519653),\n",
       " ('2012-not over you-gavin degraw', 0.7228245139122009),\n",
       " ('2012-let me love you until you learn to love yourself-neyo',\n",
       "  0.7222060561180115),\n",
       " ('2013-the way-ariana grande featuring mac miller', 0.7204374074935913),\n",
       " ('2015-renegades-x ambassadors', 0.7154954671859741),\n",
       " ('2015-lips are movin-meghan trainor', 0.7141778469085693),\n",
       " ('2012-you da one-rihanna', 0.7099398374557495),\n",
       " ('2011-god gave me you-blake shelton', 0.7092129588127136),\n",
       " ('2014-team-lorde', 0.7087574005126953),\n",
       " ('2015-how deep is your love-calvin harris and disciples',\n",
       "  0.7086665034294128),\n",
       " ('2012-love you like a love song-selena gomez  the scene',\n",
       "  0.7064934968948364),\n",
       " ('2015-one last time-ariana grande', 0.7061672806739807),\n",
       " ('2014-2 on-tinashe featuring schoolboy q', 0.7053787708282471),\n",
       " ('2015-thinking out loud-ed sheeran', 0.7045473456382751),\n",
       " ('2015-dear future husband-meghan trainor', 0.704434871673584),\n",
       " ('2012-somebody that i used to know-gotye featuring kimbra',\n",
       "  0.6936399340629578),\n",
       " ('2013-just give me a reason-pink featuring nate ruess', 0.6894570589065552),\n",
       " ('2011-rolling in the deep-adele', 0.6824820637702942),\n",
       " ('2011-crazy girl-eli young band', 0.6819879412651062),\n",
       " ('2015-honey im good-andy grammer', 0.6797206997871399),\n",
       " ('2014-love runs out-onerepublic', 0.6734037399291992),\n",
       " ('2012-wanted-hunter hayes', 0.6719476580619812),\n",
       " ('2014-boom clap-charli xcx', 0.6719202995300293),\n",
       " ('2013-stay-rihanna featuring mikky ekko', 0.6714655756950378),\n",
       " ('2014-adore you-miley cyrus', 0.6709774732589722),\n",
       " ('2012-we are never ever getting back together-taylor swift',\n",
       "  0.6706376671791077),\n",
       " ('2012-come over-kenny chesney', 0.6701974868774414),\n",
       " ('2010-mine-taylor swift', 0.6680817604064941),\n",
       " ('2015-cant feel my face-the weeknd', 0.667518138885498),\n",
       " ('2011-grenade-bruno mars', 0.6612640619277954),\n",
       " ('2015-budapest-george ezra', 0.6611160635948181),\n",
       " ('2013-carry on-fun', 0.6600992679595947),\n",
       " ('2012-drive by-train', 0.6588319540023804),\n",
       " ('2013-still into you-paramore', 0.6585875153541565),\n",
       " ('2012-take care-drake featuring rihanna', 0.6550683379173279),\n",
       " ('2013-brave-sara bareilles', 0.6545068025588989),\n",
       " ('2011-tonight im lovin you-enrique iglesias featuring ludacris and dj frank e',\n",
       "  0.6535086035728455),\n",
       " ('2014-the man-aloe blacc', 0.6523259282112122),\n",
       " ('2011-stereo love-edward maya featuring vika jigulina', 0.6494259238243103),\n",
       " ('2010-already gone-kelly clarkson', 0.6470026969909668),\n",
       " ('2013-when i was your man-bruno mars', 0.6464616060256958),\n",
       " ('2014-sing-ed sheeran', 0.6443774104118347),\n",
       " ('2011-jar of hearts-christina perri', 0.6431209444999695),\n",
       " ('2013-gone gone gone-phillip phillips', 0.6428617835044861),\n",
       " ('2014-birthday-katy perry', 0.6388295292854309),\n",
       " ('2014-summer-calvin harris', 0.6336392164230347),\n",
       " ('2012-i wont give up-jason mraz', 0.6326773762702942),\n",
       " ('2011-how to love-lil wayne', 0.6288657784461975),\n",
       " ('2012-where have you been-rihanna', 0.6284769773483276),\n",
       " ('2010-hey soul sister-train', 0.6265249252319336),\n",
       " ('2011-the time dirty bit-the black eyed peas', 0.6249599456787109),\n",
       " ('2014-rude-magic', 0.6209818720817566),\n",
       " ('2013-let her go-passenger', 0.6200624704360962),\n",
       " ('2011-the show goes on-lupe fiasco', 0.617021918296814),\n",
       " ('2012-good girl-carrie underwood', 0.61281418800354),\n",
       " ('2015-sugar-maroon 5', 0.6126270890235901),\n",
       " ('2010-3-britney spears', 0.610334575176239),\n",
       " ('2015-wildest dreams-taylor swift', 0.6095820069313049),\n",
       " ('2012-turn me on-david guetta featuring nicki minaj', 0.6095062494277954),\n",
       " ('2012-good feeling-flo rida', 0.6087119579315186),\n",
       " ('2015-locked away-r city featuring adam levine', 0.608357310295105),\n",
       " ('2013-come  get it-selena gomez', 0.6081984043121338),\n",
       " ('2015-blank space-taylor swift', 0.6048795580863953),\n",
       " ('2011-are you gonna kiss me or not-thompson square', 0.6043634414672852),\n",
       " ('2011-colder weather-zac brown band', 0.6041966080665588),\n",
       " ('2010-use somebody-kings of leon', 0.6033684611320496),\n",
       " ('2015-style-taylor swift', 0.5995008945465088),\n",
       " ('2014-aint it fun-paramore', 0.599454402923584),\n",
       " ('2012-ho hey-the lumineers', 0.5986527800559998),\n",
       " ('2011-what the hell-avril lavigne', 0.596470832824707),\n",
       " ('2012-adorn-miguel', 0.5963829755783081),\n",
       " ('2010-havent met you yet-michael buble', 0.5961489081382751),\n",
       " ('2010-bad romance-lady gaga', 0.5954871773719788),\n",
       " ('2010-in my head-jason der\"ulo', 0.5948407649993896),\n",
       " ('2012-heart attack-trey songz', 0.5935869216918945),\n",
       " ('2015-centuries-fall out boy', 0.5912744402885437),\n",
       " ('2015-classic man-jidenna featuring roman gianarthur', 0.5889351963996887),\n",
       " ('2011-sure thing-miguel', 0.5857070684432983),\n",
       " ('2015-hotline bling-drake', 0.5845006704330444),\n",
       " ('2014-timber-pitbull featuring kesha', 0.5836215615272522)]"
      ]
     },
     "execution_count": 22,
     "metadata": {},
     "output_type": "execute_result"
    }
   ],
   "source": [
    "model.docvecs.most_similar([\"rick\"], topn=100)"
   ]
  },
  {
   "cell_type": "code",
   "execution_count": null,
   "metadata": {},
   "outputs": [],
   "source": [
    "for i in range(2010,2016):\n",
    "    temp = df[df['Year'] == i]\n",
    "    "
   ]
  }
 ],
 "metadata": {
  "kernelspec": {
   "display_name": "Python 3",
   "language": "python",
   "name": "python3"
  },
  "language_info": {
   "codemirror_mode": {
    "name": "ipython",
    "version": 3
   },
   "file_extension": ".py",
   "mimetype": "text/x-python",
   "name": "python",
   "nbconvert_exporter": "python",
   "pygments_lexer": "ipython3",
   "version": "3.6.4"
  }
 },
 "nbformat": 4,
 "nbformat_minor": 2
}
